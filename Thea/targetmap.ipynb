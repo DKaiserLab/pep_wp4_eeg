{
 "cells": [
  {
   "cell_type": "code",
   "execution_count": 7,
   "metadata": {},
   "outputs": [],
   "source": [
    "import random\n",
    "import pandas as pd\n",
    "import scipy.io\n",
    "#from scipy.io import savemat\n",
    "import numpy as np"
   ]
  },
  {
   "cell_type": "code",
   "execution_count": 2,
   "metadata": {},
   "outputs": [],
   "source": [
    "def create_sequence():\n",
    "    # Entweder 7 oder 8 Einsen\n",
    "    num_ones = random.choice([7, 8])\n",
    "    num_zeros = 15 - num_ones\n",
    "    \n",
    "    # Liste mit 1en und 0en\n",
    "    sequence = [1]*num_ones + [0]*num_zeros\n",
    "    \n",
    "    # Durchmischen\n",
    "    random.shuffle(sequence)\n",
    "    \n",
    "    return sequence"
   ]
  },
  {
   "cell_type": "code",
   "execution_count": 3,
   "metadata": {},
   "outputs": [],
   "source": [
    "random.seed(42)\n",
    "present = [create_sequence() for _ in range(20)]\n",
    "trialnumber = [sorted(random.sample(range(1, 101), k=15)) for _ in range(20)]"
   ]
  },
  {
   "cell_type": "code",
   "execution_count": null,
   "metadata": {},
   "outputs": [],
   "source": [
    "permutationen = pd.read_csv('helpdata/permutations.tsv', sep='\\t')"
   ]
  },
  {
   "cell_type": "code",
   "execution_count": 5,
   "metadata": {},
   "outputs": [],
   "source": [
    "trialName = list()\n",
    "showedImg = list()\n",
    "\n",
    "for blocknumber, tblock in enumerate(trialnumber):\n",
    "    # prep\n",
    "    perm = permutationen[permutationen['block'] == blocknumber+1]\n",
    "    presentblock = present[blocknumber]\n",
    "\n",
    "    # help-lists\n",
    "    trialNameh = list()\n",
    "    showedImgh = list()\n",
    "\n",
    "    for i, t in enumerate(tblock):\n",
    "        trialNameh.append(perm[perm['imgnumber'] == t]['imagename'].iloc[0])\n",
    "\n",
    "        if presentblock[i] == 1:\n",
    "            showedImgh.append(perm[perm['imgnumber'] == t]['imagename'].iloc[0])\n",
    "        else:\n",
    "            zahl = random.choice([x for x in range(1, 101) if x != t])\n",
    "            showedImgh.append(perm[perm['imgnumber'] == zahl]['imagename'].iloc[0])\n",
    "            \n",
    "    trialName.append(trialNameh)\n",
    "    showedImg.append(showedImgh)\n"
   ]
  },
  {
   "cell_type": "code",
   "execution_count": 14,
   "metadata": {},
   "outputs": [
    {
     "name": "stdout",
     "output_type": "stream",
     "text": [
      "new_targets_struct.mat erfolgreich erstellt!\n"
     ]
    }
   ],
   "source": [
    "# Struktur für targetStruct\n",
    "targetStruct = np.empty((1, 20), dtype=[\n",
    "    ('imgName', 'O'),\n",
    "    ('showedImgName', 'O'),\n",
    "    ('trialNum', 'O'),\n",
    "    ('targetPresent', 'O')\n",
    "])\n",
    "\n",
    "# Jetzt jeden Eintrag befüllen\n",
    "for i in range(20):\n",
    "    # Einzelne Werte in kleine Arrays verpacken!\n",
    "    targetStruct[0, i] = (\n",
    "        np.array([trialName[i]], dtype=object),\n",
    "        np.array([showedImg[i]], dtype=object),\n",
    "        np.array([trialnumber[i]], dtype=float),\n",
    "        np.array([present[i]], dtype=bool)\n",
    "    )\n",
    "\n",
    "# Speichern als .mat-Datei\n",
    "scipy.io.savemat('new_targets_struct.mat', {'targetStruct': targetStruct})\n",
    "\n",
    "print(\"new_targets_struct.mat erfolgreich erstellt!\")\n"
   ]
  }
 ],
 "metadata": {
  "kernelspec": {
   "display_name": "base",
   "language": "python",
   "name": "python3"
  },
  "language_info": {
   "codemirror_mode": {
    "name": "ipython",
    "version": 3
   },
   "file_extension": ".py",
   "mimetype": "text/x-python",
   "name": "python",
   "nbconvert_exporter": "python",
   "pygments_lexer": "ipython3",
   "version": "3.11.7"
  }
 },
 "nbformat": 4,
 "nbformat_minor": 2
}
